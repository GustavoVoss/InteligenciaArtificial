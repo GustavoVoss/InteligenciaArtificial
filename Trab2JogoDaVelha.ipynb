{
  "nbformat": 4,
  "nbformat_minor": 0,
  "metadata": {
    "colab": {
      "provenance": []
    },
    "kernelspec": {
      "name": "python3",
      "display_name": "Python 3"
    },
    "language_info": {
      "name": "python"
    }
  },
  "cells": [
    {
      "cell_type": "markdown",
      "source": [
        "### Estudantes: Gustavo Arthur Haerthel, Gustavo Richard Voss e Rodrigo Leitzke\n",
        "\n",
        "# JOGO DA VELHA\n",
        "\n",
        "## Descrição e regras do jogo:\n",
        "O Jogo da Velha é um jogo de tabuleiro para dois jogadores, X e O. Eles se alternam para marcar espaços em uma zona 3x3. O objetivo é alinhar três símbolos iguais na posição horizontal, vertical ou diagonal. Caso todas as casas forem preenchidas e ninguém alinhar três símbolos, o jogo termina empatado (deu velha!).\n",
        "<br><br>\n",
        "\n",
        "## Formulação para problemas de busca:\n",
        "### Estado inicial\n",
        "Tabuleiro vazio (matriz 3x3 com todos os espaços marcados como vazios).\n",
        "### Estado Objetivo\n",
        "Um jogador vence (três marcas X ou O em linha, coluna ou diagonal) ou o tabuleiro fica cheio sem vencedor (empate).\n",
        "### Função sucessora (ações possíveis)\n",
        "Colocar um X ou O em uma célula vazia. Cada ação gera um novo estado do tabuleiro.\n",
        "### Custo do caminho\n",
        "Cada jogada tem custo 1. O custo total é o número de jogadas até alcançar um estado final. Para o jogo da velha, o custo é uniforme.\n",
        "<br><br>\n",
        "\n",
        "## Tipo de jogo:\n",
        "### Determinístico, pois:\n",
        "*   Não há elementos de aleatoriedade.\n",
        "*   As ações são previsíveis.\n",
        "*   O resultado de cada ação depende somente do estado atual e da jogada.\n",
        "<br><br>\n",
        "\n",
        "## Solução escolhida:\n",
        "O Minimax, pois é o algoritmo padrão para jogos determinísticos como o Jogo da Velha. Ele garante que o jogador escolha a jogada ótima assumindo que o adversário também joga de forma ótima."
      ],
      "metadata": {
        "id": "8pZjuO-qgfLd"
      }
    },
    {
      "cell_type": "code",
      "source": [
        "import math"
      ],
      "metadata": {
        "id": "rEdjTHf-eI-H"
      },
      "execution_count": null,
      "outputs": []
    },
    {
      "cell_type": "code",
      "source": [
        "def inicializa_tabuleiro():\n",
        "    tabuleiro = []\n",
        "    for _ in range(3):\n",
        "        linha = []\n",
        "        for _ in range(3):\n",
        "            linha.append(\" \")\n",
        "        tabuleiro.append(linha)\n",
        "    return tabuleiro"
      ],
      "metadata": {
        "id": "wkOgJ9ibeOBP"
      },
      "execution_count": null,
      "outputs": []
    },
    {
      "cell_type": "code",
      "source": [
        "def verifica_vencedor(tabuleiro):\n",
        "    # linhas, colunas e diagonais\n",
        "    for i in range(3):\n",
        "        if tabuleiro[i][0] == tabuleiro[i][1] == tabuleiro[i][2] != \" \":\n",
        "            return tabuleiro[i][0]\n",
        "        if tabuleiro[0][i] == tabuleiro[1][i] == tabuleiro[2][i] != \" \":\n",
        "            return tabuleiro[0][i]\n",
        "\n",
        "    if tabuleiro[0][0] == tabuleiro[1][1] == tabuleiro[2][2] != \" \":\n",
        "        return tabuleiro[0][0]\n",
        "    if tabuleiro[0][2] == tabuleiro[1][1] == tabuleiro[2][0] != \" \":\n",
        "        return tabuleiro[0][2]\n",
        "\n",
        "    return None"
      ],
      "metadata": {
        "id": "Os6tqBIDeQy3"
      },
      "execution_count": null,
      "outputs": []
    },
    {
      "cell_type": "code",
      "source": [
        "def verifica_empate(tabuleiro):\n",
        "    for linha in tabuleiro:\n",
        "        # se não houver mais jogadas à serem feitas (espaço)\n",
        "        if \" \" in linha:\n",
        "            return False\n",
        "    return True"
      ],
      "metadata": {
        "id": "JJ4bK-9meTIH"
      },
      "execution_count": null,
      "outputs": []
    },
    {
      "cell_type": "code",
      "source": [
        "def imprime_tabuleiro(tabuleiro):\n",
        "    for i in range(3):\n",
        "        linha = \"\"\n",
        "        for j in range(3):\n",
        "            linha += tabuleiro[i][j]\n",
        "            if j < 2:\n",
        "                linha += \"|\"\n",
        "        print(linha)\n",
        "        if i < 2:\n",
        "            print(\"-----\")"
      ],
      "metadata": {
        "id": "vlJfHYcleUse"
      },
      "execution_count": null,
      "outputs": []
    },
    {
      "cell_type": "code",
      "source": [
        "def minimax(tabuleiro, profundidade, maximizando):\n",
        "    # primeiro verifica se alguém já ganhou\n",
        "    vencedor = verifica_vencedor(tabuleiro)\n",
        "    if vencedor == \"X\":\n",
        "        return 1\n",
        "    elif vencedor == \"O\":\n",
        "        return -1\n",
        "    elif verifica_empate(tabuleiro):\n",
        "        return 0\n",
        "\n",
        "    # vez do X (IA)\n",
        "    if maximizando:\n",
        "        melhor_pontuacao = -math.inf  # começa com o menor valor possível\n",
        "        for i in range(3):\n",
        "            for j in range(3):\n",
        "                if tabuleiro[i][j] == \" \":\n",
        "                    tabuleiro[i][j] = \"X\"\n",
        "                    # chama recursivamente para ver o que acontece depois dessa jogada\n",
        "                    pontuacao = minimax(tabuleiro, profundidade + 1, False)\n",
        "                    # desfaz a jogada (volta ao estado anterior)\n",
        "                    tabuleiro[i][j] = \" \"\n",
        "                    # guarda a melhor pontuação possível\n",
        "                    if pontuacao > melhor_pontuacao:\n",
        "                        melhor_pontuacao = pontuacao\n",
        "        return melhor_pontuacao\n",
        "    else:\n",
        "        # vez da O (pessoa)\n",
        "        melhor_pontuacao = math.inf  # começa com o maior valor possível\n",
        "        for i in range(3):\n",
        "            for j in range(3):\n",
        "                if tabuleiro[i][j] == \" \":\n",
        "                    tabuleiro[i][j] = \"O\"\n",
        "                    pontuacao = minimax(tabuleiro, profundidade + 1, True)\n",
        "                    tabuleiro[i][j] = \" \"\n",
        "                    if pontuacao < melhor_pontuacao:\n",
        "                        melhor_pontuacao = pontuacao\n",
        "        return melhor_pontuacao"
      ],
      "metadata": {
        "id": "mW7kPZwUeW_3"
      },
      "execution_count": null,
      "outputs": []
    },
    {
      "cell_type": "code",
      "source": [
        "def melhor_jogada(tabuleiro, jogador):\n",
        "    #  X (IA): procura o maior valor. O (pessoa), procura o menor valor.\n",
        "    if jogador == \"X\":\n",
        "        melhor_valor = -math.inf  # começa com o menor valor possível\n",
        "    else:\n",
        "        melhor_valor = math.inf  # começa com o maior valor possível\n",
        "\n",
        "    jogada = (-1, -1)  # guarda a melhor jogada encontrada\n",
        "\n",
        "    # percorre todas as posições do tabuleiro\n",
        "    for i in range(3):\n",
        "        for j in range(3):\n",
        "            if tabuleiro[i][j] == \" \":\n",
        "                # faz a jogada temporariamente\n",
        "                tabuleiro[i][j] = jogador\n",
        "\n",
        "                valor = minimax(tabuleiro, 0, jogador == \"O\")\n",
        "\n",
        "                tabuleiro[i][j] = \" \" # volta ao estado anterior\n",
        "\n",
        "                # atualiza a melhor jogada\n",
        "                if jogador == \"X\" and valor > melhor_valor:\n",
        "                    melhor_valor = valor\n",
        "                    jogada = (i, j)\n",
        "                elif jogador == \"O\" and valor < melhor_valor:\n",
        "                    melhor_valor = valor\n",
        "                    jogada = (i, j)\n",
        "\n",
        "    return jogada  # retorna a jogada de melhor resultado"
      ],
      "metadata": {
        "id": "SCakN4h3eZJf"
      },
      "execution_count": null,
      "outputs": []
    },
    {
      "cell_type": "code",
      "source": [
        "def jogar():\n",
        "    tabuleiro = inicializa_tabuleiro()\n",
        "    jogador_atual = \"X\"\n",
        "\n",
        "    while True:\n",
        "        imprime_tabuleiro(tabuleiro)\n",
        "        if jogador_atual == \"X\":\n",
        "            print(\"Jogador X (IA) pensando...\")\n",
        "            i, j = melhor_jogada(tabuleiro, \"X\")\n",
        "        else:\n",
        "            i, j = map(int, input(\"Jogador O - digite linha e coluna (0-2 separados por espaço): \").split())\n",
        "\n",
        "        if tabuleiro[i][j] == \" \":\n",
        "            tabuleiro[i][j] = jogador_atual\n",
        "        else:\n",
        "            print(\"Movimento inválido. Tente novamente.\")\n",
        "            continue\n",
        "\n",
        "        vencedor = verifica_vencedor(tabuleiro)\n",
        "        if vencedor:\n",
        "            imprime_tabuleiro(tabuleiro)\n",
        "            print(f\"Jogador {vencedor} venceu!\")\n",
        "            break\n",
        "        elif verifica_empate(tabuleiro):\n",
        "            imprime_tabuleiro(tabuleiro)\n",
        "            print(\"Empate!\")\n",
        "            break\n",
        "\n",
        "        jogador_atual = \"O\" if jogador_atual == \"X\" else \"X\""
      ],
      "metadata": {
        "id": "53FUVLrEebcv"
      },
      "execution_count": null,
      "outputs": []
    },
    {
      "cell_type": "code",
      "execution_count": null,
      "metadata": {
        "colab": {
          "base_uri": "https://localhost:8080/"
        },
        "id": "etsQVPU4e0mo",
        "outputId": "f4ce2ace-e318-4fc6-b770-57ab126b46e7"
      },
      "outputs": [
        {
          "output_type": "stream",
          "name": "stdout",
          "text": [
            " | | \n",
            "-----\n",
            " | | \n",
            "-----\n",
            " | | \n",
            "Jogador X (IA) pensando...\n",
            "X| | \n",
            "-----\n",
            " | | \n",
            "-----\n",
            " | | \n",
            "Jogador O - digite linha e coluna (0-2 separados por espaço): 0 0\n",
            "Movimento inválido. Tente novamente.\n",
            "X| | \n",
            "-----\n",
            " | | \n",
            "-----\n",
            " | | \n",
            "Jogador O - digite linha e coluna (0-2 separados por espaço): 0 1\n",
            "X|O| \n",
            "-----\n",
            " | | \n",
            "-----\n",
            " | | \n",
            "Jogador X (IA) pensando...\n",
            "X|O| \n",
            "-----\n",
            "X| | \n",
            "-----\n",
            " | | \n",
            "Jogador O - digite linha e coluna (0-2 separados por espaço): 2 0\n",
            "X|O| \n",
            "-----\n",
            "X| | \n",
            "-----\n",
            "O| | \n",
            "Jogador X (IA) pensando...\n",
            "X|O| \n",
            "-----\n",
            "X|X| \n",
            "-----\n",
            "O| | \n",
            "Jogador O - digite linha e coluna (0-2 separados por espaço): 2 2\n",
            "X|O| \n",
            "-----\n",
            "X|X| \n",
            "-----\n",
            "O| |O\n",
            "Jogador X (IA) pensando...\n",
            "X|O| \n",
            "-----\n",
            "X|X|X\n",
            "-----\n",
            "O| |O\n",
            "Jogador X venceu!\n"
          ]
        }
      ],
      "source": [
        "# Executa o jogo\n",
        "if __name__ == \"__main__\":\n",
        "    jogar()"
      ]
    }
  ]
}